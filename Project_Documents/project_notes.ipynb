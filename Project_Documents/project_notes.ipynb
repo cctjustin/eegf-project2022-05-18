{
 "cells": [
  {
   "cell_type": "code",
   "execution_count": null,
   "id": "d3ac7ba3",
   "metadata": {},
   "outputs": [],
   "source": [
    "import cv2"
   ]
  },
  {
   "cell_type": "markdown",
   "id": "42d71732",
   "metadata": {},
   "source": [
    "Opens Webcam"
   ]
  },
  {
   "cell_type": "code",
   "execution_count": null,
   "id": "09153518",
   "metadata": {},
   "outputs": [],
   "source": [
    "cap = cv2.VideoCapture(0)"
   ]
  },
  {
   "cell_type": "markdown",
   "id": "cc577155",
   "metadata": {},
   "source": [
    "Shit Happens"
   ]
  },
  {
   "cell_type": "code",
   "execution_count": null,
   "id": "565d7165",
   "metadata": {},
   "outputs": [],
   "source": [
    "while(True):\n",
    "    #Capture frame-by-frame\n",
    "    ret, frame = cap.read()\n",
    "    #Turn images gray for faster processing\n",
    "    gray = cv2.cvtColor(frame, cv2.COLOR_BGR2GRAY)\n",
    "    #Display the resulting frame\n",
    "    cv2.imshow('frame', gray)\n",
    "    if cv2.waitKey(1) & 0xFF == ord('q'):\n",
    "        break\n",
    "#When everything is done, release the capture\n",
    "cap.release()\n",
    "cv2.destroyALLWindows()"
   ]
  }
 ],
 "metadata": {
  "kernelspec": {
   "display_name": "Python 3 (ipykernel)",
   "language": "python",
   "name": "python3"
  },
  "language_info": {
   "codemirror_mode": {
    "name": "ipython",
    "version": 3
   },
   "file_extension": ".py",
   "mimetype": "text/x-python",
   "name": "python",
   "nbconvert_exporter": "python",
   "pygments_lexer": "ipython3",
   "version": "3.9.12"
  }
 },
 "nbformat": 4,
 "nbformat_minor": 5
}
